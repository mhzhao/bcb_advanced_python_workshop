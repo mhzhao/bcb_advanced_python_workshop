{
 "cells": [
  {
   "cell_type": "code",
   "execution_count": 2,
   "metadata": {},
   "outputs": [],
   "source": [
    "x=[1,2]\n",
    "y=[1,2]"
   ]
  },
  {
   "cell_type": "code",
   "execution_count": 3,
   "metadata": {},
   "outputs": [
    {
     "data": {
      "text/plain": [
       "False"
      ]
     },
     "execution_count": 3,
     "metadata": {},
     "output_type": "execute_result"
    }
   ],
   "source": [
    "x is y"
   ]
  },
  {
   "cell_type": "code",
   "execution_count": 4,
   "metadata": {},
   "outputs": [
    {
     "data": {
      "text/plain": [
       "True"
      ]
     },
     "execution_count": 4,
     "metadata": {},
     "output_type": "execute_result"
    }
   ],
   "source": [
    "x==y"
   ]
  },
  {
   "cell_type": "markdown",
   "metadata": {},
   "source": [
    "# If loop "
   ]
  },
  {
   "cell_type": "code",
   "execution_count": null,
   "metadata": {},
   "outputs": [],
   "source": [
    "#the number entered by usear is stored in the variable \"number\"\n",
    "number = int(input(\"Enter any integer: \"))\n",
    "if number>5 or number<0:\n",
    "    print(\"The number {} you input is beyound the range 0~7\".format(number))\n",
    "    number = int(input(\"Please input a number in the range 0~7\"))\n",
    "else:\n",
    "    print (\"You entered: \" + str(number))\n",
    "\n",
    "print (\"Choose an option below then press enter:\")\n",
    "\n",
    "print (\"1. Find square of the number\")\n",
    "print (\"2. Find cube of the number\")\n",
    "print (\"3. Find any other power of the number\")\n",
    "print (\"4. Find the reciprocal of the number\")\n",
    "\n",
    "#the option entered by user is stored in the variable \"option\"\n",
    "option = int(input(\"Enter option (1,2,3,4): \"))\n",
    "\n",
    "#use if-else statements and determine which code block to execute based on user's input\n",
    "if option==1:\n",
    "    print (\"Square = \"+str(number**2))\n",
    "elif option==2:\n",
    "    print (\"Cube = \"+str(number**3))\n",
    "elif option==3:\n",
    "    power = int(input(\"Enter the power: \"))\n",
    "    if power > 7:\n",
    "        print (\"power is to high...\")\n",
    "    else :\n",
    "        print (str(number)+\" to power \"+str(power)+\" is = \"+str(number**power))\n",
    "elif option==4:\n",
    "    recip = int(input(\"Enter the reciprocal you want to find: \"))\n",
    "    if recip==0:\n",
    "        print(\"Your input is 0 which is not valid.\")\n",
    "        recip = int(input(\"Please input a non zero number: \"))\n",
    "    else:\n",
    "        print(\"the reciprocal {}/{} is {}\".format(recip,number,recip/number))\n",
    "else:\n",
    "    print (\"Not a valid option\")"
   ]
  },
  {
   "cell_type": "markdown",
   "metadata": {},
   "source": [
    "# For loop "
   ]
  },
  {
   "cell_type": "code",
   "execution_count": null,
   "metadata": {},
   "outputs": [],
   "source": [
    "for i in range(0,10):\n",
    "    print(i)"
   ]
  },
  {
   "cell_type": "markdown",
   "metadata": {},
   "source": [
    "# While loop "
   ]
  },
  {
   "cell_type": "code",
   "execution_count": null,
   "metadata": {},
   "outputs": [],
   "source": [
    "x=0\n",
    "while(x<10):\n",
    "    print(x)\n",
    "    x=x+1"
   ]
  },
  {
   "cell_type": "code",
   "execution_count": null,
   "metadata": {},
   "outputs": [],
   "source": [
    "mylist = list(range(1,8))\n",
    "for i in mylist:\n",
    "    if(i%2==0):\n",
    "        continue\n",
    "    if(i==7):\n",
    "        break\n",
    "    print(i)"
   ]
  },
  {
   "cell_type": "code",
   "execution_count": null,
   "metadata": {},
   "outputs": [],
   "source": [
    "primes=[2,3,5,7,11,13,17,19,23,29,31,37,41,43,47,53,59,61,67,71]\n",
    "\n",
    "number = int(input(\"Enter any integer less than 20: \"))\n",
    "print (\"You entered:\" + str(number))\n",
    "\n",
    "print (\"Printing first \" + str(number)+\" primes using for loop\")\n",
    "#Note: the range(n,m) function generates a list of integers in range [n,m)\n",
    "#e.g. range(0,5): [0, 1, 2, 3, 4]\n",
    "#range(m) generates list of integers in range [0,m)\n",
    "#e.g. range(5): [0, 1, 2, 3, 4]\n",
    "for i in range(0,number): \n",
    "    print (primes[i])\n",
    "\n",
    "print (\"Printing first \" + str(number)+\" primes using while loop\")\n",
    "i=0\n",
    "while i<number:\n",
    "    print (primes[i])\n",
    "    i=i+1\n",
    "\n",
    "print (\"Printing first \" + str(number)+\" primes using for loop with break\")\n",
    "i=0\n",
    "for p in primes: \n",
    "    print (p)\n",
    "    i=i+1\n",
    "    if i == number:\n",
    "        break\n",
    "\n",
    "print (\"Printing first \" + str(number)+\" primes using while loop with break\")\n",
    "i=0\n",
    "while True:\n",
    "    print (primes[i])\n",
    "    i=i+1\n",
    "    if i == number:\n",
    "        break\n",
    "\n",
    "#using continue is not efficient in this case as the loop continues to run, doing nothing, until it reaches end of the list\n",
    "print (\"Printing first \" + str(number)+\" primes using for loop with continue\")\n",
    "i=0\n",
    "for p in primes:\n",
    "    if i >= number:\n",
    "        continue\n",
    "    print (p)\n",
    "    i=i+1\n",
    "    \n",
    "print (\"Printing first \" + str(number)+\" primes using while loop with continue\")\n",
    "i=0\n",
    "while i< len(primes):\n",
    "    #Note: the statement i=i+1. We have to increment i with each iteration otherwise we will no reach the stopping criteria and loop will continue indefinitely !!!\n",
    "    #If we choose to skip a code block we still must increment i by 1\n",
    "    if i >= number:\n",
    "        i=i+1\n",
    "        continue\n",
    "    print (primes[i])\n",
    "    i=i+1\n",
    "    "
   ]
  },
  {
   "cell_type": "code",
   "execution_count": null,
   "metadata": {},
   "outputs": [],
   "source": [
    "#1. Given a number, find its factorial i.e. n*n-1*n-2*...*1. Hint: use loop.\n",
    "number=int(input(\"Enter a positive number you want to find its factoral: \"))\n",
    "fact = 1\n",
    "for i in range(1,number+1):\n",
    "    fact=fact*i\n",
    "print(\"The factorial of {} is {}\".format(number,fact))\n",
    "\n",
    "#Don't change this\n",
    "#Thanks Yuan Wang, BCB for the dict code\n",
    "geneticCode = {\"UUU\":\"F\", \"UUC\":\"F\", \"UUA\":\"L\", \"UUG\":\"L\",\n",
    "              \"UCU\":\"S\", \"UCC\":\"s\", \"UCA\":\"S\", \"UCG\":\"S\",\n",
    "              \"UAU\":\"Y\", \"UAC\":\"Y\", \"UAG\":\"STOP\",\n",
    "              \"UGU\":\"C\", \"UGC\":\"C\", \"UGA\":\"STOP\",\"UAA\":\"STOP\", \"UGG\":\"W\",\n",
    "              \"CUU\":\"L\", \"CUC\":\"L\", \"CUA\":\"L\", \"CUG\":\"L\",\n",
    "              \"CCU\":\"P\", \"CCC\":\"P\", \"CCA\":\"P\", \"CCG\":\"P\",\n",
    "              \"CAU\":\"H\", \"CAC\":\"H\", \"CAA\":\"Q\", \"CAG\":\"Q\",\n",
    "              \"CGU\":\"R\", \"CGC\":\"R\", \"CGA\":\"R\", \"CGG\":\"R\",\n",
    "              \"AUU\":\"I\", \"AUC\":\"I\", \"AUA\":\"I\", \"AUG\":\"M\",\n",
    "              \"ACU\":\"T\", \"ACC\":\"T\", \"ACA\":\"T\", \"ACG\":\"T\",\n",
    "              \"AAU\":\"N\", \"AAC\":\"N\", \"AAA\":\"K\", \"AAG\":\"K\",\n",
    "              \"AGU\":\"S\", \"AGC\":\"S\", \"AGA\":\"R\", \"AGG\":\"R\",\n",
    "              \"GUU\":\"V\", \"GUC\":\"V\", \"GUA\":\"V\", \"GUG\":\"V\",\n",
    "              \"GCU\":\"A\", \"GCC\":\"A\", \"GCA\":\"A\", \"GCG\":\"A\",\n",
    "              \"GAU\":\"D\", \"GAC\":\"D\", \"GAA\":\"E\", \"GAG\":\"E\",\n",
    "              \"GGU\":\"G\", \"GGC\":\"G\", \"GGA\":\"G\",\"GGG\":\"G\" }\n",
    "\n",
    "'''\n",
    "Above \"geneticCode\" is a dict which maps an RNA codon to an amino acid letter. Same from excercise 2.\n",
    "'''\n",
    "\n",
    "dnaCodons=['ATG','TTT','TTG','CTC','ATT','ATG','GTA','TAC','TAG','CAT','CAC','CAA','AAC','AAG','GAT','TGC','TGA','TGG','CGA','AGC','AGG','GGG']\n",
    "\n",
    "#2. dnaCodons is a list of valid codons. Using a for loop iterate over this list and print corresponding amino acid.\n",
    "#Hint: The dict geneticCode is defined for RNA codons you will have to first convert the given DNA codons to RNA codons. To this replace all 'T' with 'U'.\n",
    "#You may want to use str.replace() function\n",
    "\n",
    "#3. If you did step 1 correctly you will notice two \"STOP\" in your amino acid sequence. Biologically, the \"Stop\" codons mark te end of a peptide.\n",
    "#Use an if condition to skip printing of the \"Stop\" codon. Can you do the same using a continue statement?\n",
    "#Hint: the codons that will result in a stop codon are \"UAG\",\"UGA\" or \"UAA\".\n",
    "\n",
    "'''\n",
    "*Bonus Question\n",
    "Open Reading Frame (ORF): An ORF is defined as the sequence which has the ability to be translated into a protein. An ORF start with a start codon i.e \"ATG\" and\n",
    "ends with any of the stop codons i.e. \"TAG\" or \"TGA\". Where a codon is defined as sub-sequence of length 3 in a given sequence. To keep things simple we scan in\n",
    "only one direction  and in only one frame (don't worry if you don't know these terms) to find the possible ORF. e.g. in the sequence AAATTTATGAGCTTTCATCATTAGGGTTTG\n",
    "the ORF has the codons are ATG AGC TTT CAT CAT i.e. three letters taken at a time starting from the start codon till the stop codon is reached (not printed). \n",
    "'''\n",
    "dnaSeq='AAATTTATGAGCTTTCATCATTAGGGTTTG'\n",
    "#4. Given a DNA sequence can you find the ORF using the above defination."
   ]
  },
  {
   "cell_type": "markdown",
   "metadata": {},
   "source": [
    "# Function "
   ]
  },
  {
   "cell_type": "code",
   "execution_count": 11,
   "metadata": {},
   "outputs": [
    {
     "name": "stdout",
     "output_type": "stream",
     "text": [
      "7\n"
     ]
    }
   ],
   "source": [
    "def funcSum(a,b):\n",
    "    return a+b\n",
    "print(funcSum(5,2))"
   ]
  },
  {
   "cell_type": "code",
   "execution_count": 12,
   "metadata": {},
   "outputs": [
    {
     "data": {
      "text/plain": [
       "11"
      ]
     },
     "execution_count": 12,
     "metadata": {},
     "output_type": "execute_result"
    }
   ],
   "source": [
    "x = lambda a,b:a+b\n",
    "x(5,6)"
   ]
  },
  {
   "cell_type": "code",
   "execution_count": 13,
   "metadata": {},
   "outputs": [
    {
     "name": "stdout",
     "output_type": "stream",
     "text": [
      "Hi, Welcome!\n"
     ]
    },
    {
     "name": "stdin",
     "output_type": "stream",
     "text": [
      "Please Enter your name:  minghui\n"
     ]
    },
    {
     "name": "stdout",
     "output_type": "stream",
     "text": [
      "How are you, minghui\n",
      "Goodbye...\n"
     ]
    },
    {
     "data": {
      "text/plain": [
       "16"
      ]
     },
     "execution_count": 13,
     "metadata": {},
     "output_type": "execute_result"
    }
   ],
   "source": [
    "#####These are my function definitions#####\n",
    "\n",
    "#this function takes no argument, returns None\n",
    "def printWelcome():\n",
    "    print (\"Hi, Welcome!\")\n",
    "#this function takes no argument, returns a str object\n",
    "def getName():\n",
    "    name=input(\"Please Enter your name: \")\n",
    "    return name\n",
    "#this function takes a str object, returns None\n",
    "def printMessage(name):\n",
    "    print (\"How are you, \"+name)\n",
    "#this function takes no argument, returns None\n",
    "def printGoodbye():\n",
    "    print (\"Goodbye...\")\n",
    "\n",
    "\n",
    "\n",
    "\n",
    "#####Call the functions######\n",
    "printWelcome()\n",
    "user=getName()\n",
    "printMessage(user)\n",
    "printGoodbye()\n",
    "\n",
    "##usage of lamda function\n",
    "def mult(n):\n",
    "    return lambda x: x*n\n",
    "\n",
    "double=mult(2)\n",
    "double(3)\n",
    "triple=mult(4)\n",
    "triple(4)"
   ]
  },
  {
   "cell_type": "code",
   "execution_count": 14,
   "metadata": {},
   "outputs": [
    {
     "data": {
      "text/plain": [
       "16"
      ]
     },
     "execution_count": 14,
     "metadata": {},
     "output_type": "execute_result"
    }
   ],
   "source": [
    "mult(4)(4)"
   ]
  },
  {
   "cell_type": "code",
   "execution_count": 19,
   "metadata": {},
   "outputs": [
    {
     "name": "stdin",
     "output_type": "stream",
     "text": [
      "Input your age  15\n"
     ]
    },
    {
     "data": {
      "text/plain": [
       "15"
      ]
     },
     "execution_count": 19,
     "metadata": {},
     "output_type": "execute_result"
    }
   ],
   "source": [
    "def getAge():\n",
    "    age=int(input(\"Input your age \"))\n",
    "    return age\n",
    "age = getAge()\n",
    "age"
   ]
  },
  {
   "cell_type": "code",
   "execution_count": 33,
   "metadata": {},
   "outputs": [],
   "source": [
    "#1. We know len() returns the length of a string. Define a function that takes a string as an argument\n",
    "# and prints its squared length. E.g. if input to function is 'ABCD' return value should be 16.\n",
    "# use def and lambda functions\n",
    "def strLen(string):\n",
    "    return len(string)*len(string)\n",
    "length = lambda string:len(string)*len(string)\n",
    "\n",
    "#2. Write another function that takes two strings as arguments and returns the sum of square of lengths of the two Strings.\n",
    "# E.g. if in put to function is 'ABC' and 'DE' return value should be 9+4=13.\n",
    "def strLen2(string1,string2):\n",
    "    return len(string1)*len(string1)+len(string2)*len(string2)\n",
    "length2 = lambda string1,string2:len(string1)*len(string1)+len(string2)*len(string2)\n",
    "\n",
    "#3. Let me define a term \"pythagorean string triplets\" as set of three strings such that squared length of any one is\n",
    "# equal to the sum of the squared lengths of other two. Given three strings check whether they form a pythagorean string triplet.\n",
    "# Hint: You don't have to check each possible combination, just check if the largest string's squared length is equal to\n",
    "# sum of squared lengths of the other two.\n",
    "def pythagorean(str1,str2,str3):\n",
    "    l1 = len(str1)\n",
    "    l2 = len(str2)\n",
    "    l3 = len(str3)\n",
    "    lmax = max(l1,l2,l3)\n",
    "    if lmax == l1:\n",
    "        if l1*l1 == l2*l2+l3*l3:\n",
    "            return \"pythagorean string triplets\"\n",
    "    elif lmax == l2:\n",
    "        if l2*l2 == l1*l1 + l3*l3:\n",
    "            return \"pythagorean string triplets\"\n",
    "    else:\n",
    "        if l3*l3 == l1*l1 + l2*l2:\n",
    "            return \"pythagorean string triplets\"\n",
    "    return \"not pythagorean string triplets\""
   ]
  },
  {
   "cell_type": "code",
   "execution_count": 26,
   "metadata": {},
   "outputs": [
    {
     "name": "stdout",
     "output_type": "stream",
     "text": [
      "16\n",
      "9\n",
      "25\n",
      "32\n"
     ]
    }
   ],
   "source": [
    "print(strLen(\"good\"))\n",
    "print(length(\"bad\"))\n",
    "print(strLen2(\"good\",\"bad\"))\n",
    "print(length2(\"good\",\"good\"))"
   ]
  },
  {
   "cell_type": "code",
   "execution_count": 35,
   "metadata": {},
   "outputs": [
    {
     "data": {
      "text/plain": [
       "'not pythagorean string triplets'"
      ]
     },
     "execution_count": 35,
     "metadata": {},
     "output_type": "execute_result"
    }
   ],
   "source": [
    "pythagorean(\"good\",\"bad\",\"very\")"
   ]
  },
  {
   "cell_type": "code",
   "execution_count": 27,
   "metadata": {},
   "outputs": [
    {
     "data": {
      "text/plain": [
       "4"
      ]
     },
     "execution_count": 27,
     "metadata": {},
     "output_type": "execute_result"
    }
   ],
   "source": [
    "max(len(\"good\"),len(\"bad\"),len(\"nice\"))"
   ]
  },
  {
   "cell_type": "code",
   "execution_count": 29,
   "metadata": {},
   "outputs": [
    {
     "name": "stdout",
     "output_type": "stream",
     "text": [
      "total names = 21\n",
      "Names containing 3: 0\n"
     ]
    }
   ],
   "source": [
    "#read the file names.txt\n",
    "#f is the file object\n",
    "with open('./stories/woods.txt','r') as f:\n",
    "    names= f.read().splitlines()    #read().splitlines removes any trainling \\n or \\r\n",
    "\n",
    "print (\"total names =\",str(len(names)))\n",
    "\n",
    "#How many names contain '3'\n",
    "names_3=[]\n",
    "for x in names:\n",
    "    if '3' in x:\n",
    "        #add the names to list names_3\n",
    "        names_3.append(x)\n",
    "print (\"Names containing 3:\",str(len(names_3)))\n",
    "\n",
    "#write the names to file \"names_with_3.txt\"\n",
    "#opens the file, f is the file object but for the new file \"names_with_3.txt\"\n",
    "f=open('names_with_3.txt','w')\n",
    "for x in names_3:\n",
    "    #f.write writes to the file\n",
    "    f.write(str(x)+\"\\n\")\n",
    "f.close()"
   ]
  },
  {
   "cell_type": "markdown",
   "metadata": {},
   "source": [
    "# Pandas "
   ]
  },
  {
   "cell_type": "code",
   "execution_count": 37,
   "metadata": {},
   "outputs": [],
   "source": [
    "import pandas as pd"
   ]
  },
  {
   "cell_type": "code",
   "execution_count": 39,
   "metadata": {},
   "outputs": [],
   "source": [
    "ser1=pd.Series([1,2,3])"
   ]
  },
  {
   "cell_type": "code",
   "execution_count": 41,
   "metadata": {},
   "outputs": [],
   "source": [
    "serA=pd.Series(['a','b','c'])"
   ]
  },
  {
   "cell_type": "code",
   "execution_count": 43,
   "metadata": {},
   "outputs": [],
   "source": [
    "ser1A=pd.Series(['a','b','c',22.0])"
   ]
  },
  {
   "cell_type": "code",
   "execution_count": 50,
   "metadata": {},
   "outputs": [],
   "source": [
    "ser2=pd.Series([1,2,3],index=['a','b','c'])"
   ]
  },
  {
   "cell_type": "code",
   "execution_count": 56,
   "metadata": {},
   "outputs": [
    {
     "data": {
      "text/plain": [
       "2"
      ]
     },
     "execution_count": 56,
     "metadata": {},
     "output_type": "execute_result"
    }
   ],
   "source": [
    "ser2['b']"
   ]
  },
  {
   "cell_type": "code",
   "execution_count": 55,
   "metadata": {},
   "outputs": [
    {
     "data": {
      "text/plain": [
       "b    2\n",
       "c    3\n",
       "dtype: int64"
      ]
     },
     "execution_count": 55,
     "metadata": {},
     "output_type": "execute_result"
    }
   ],
   "source": [
    "ser2[['b','c']]"
   ]
  },
  {
   "cell_type": "code",
   "execution_count": 57,
   "metadata": {},
   "outputs": [],
   "source": [
    "l1=['a','b','c','d']\n",
    "l2=[1,2,3,4]\n",
    "df=pd.DataFrame(list(zip(l1,l2)))"
   ]
  },
  {
   "cell_type": "code",
   "execution_count": 58,
   "metadata": {},
   "outputs": [
    {
     "data": {
      "text/html": [
       "<div>\n",
       "<style scoped>\n",
       "    .dataframe tbody tr th:only-of-type {\n",
       "        vertical-align: middle;\n",
       "    }\n",
       "\n",
       "    .dataframe tbody tr th {\n",
       "        vertical-align: top;\n",
       "    }\n",
       "\n",
       "    .dataframe thead th {\n",
       "        text-align: right;\n",
       "    }\n",
       "</style>\n",
       "<table border=\"1\" class=\"dataframe\">\n",
       "  <thead>\n",
       "    <tr style=\"text-align: right;\">\n",
       "      <th></th>\n",
       "      <th>0</th>\n",
       "      <th>1</th>\n",
       "    </tr>\n",
       "  </thead>\n",
       "  <tbody>\n",
       "    <tr>\n",
       "      <th>0</th>\n",
       "      <td>a</td>\n",
       "      <td>1</td>\n",
       "    </tr>\n",
       "    <tr>\n",
       "      <th>1</th>\n",
       "      <td>b</td>\n",
       "      <td>2</td>\n",
       "    </tr>\n",
       "    <tr>\n",
       "      <th>2</th>\n",
       "      <td>c</td>\n",
       "      <td>3</td>\n",
       "    </tr>\n",
       "    <tr>\n",
       "      <th>3</th>\n",
       "      <td>d</td>\n",
       "      <td>4</td>\n",
       "    </tr>\n",
       "  </tbody>\n",
       "</table>\n",
       "</div>"
      ],
      "text/plain": [
       "   0  1\n",
       "0  a  1\n",
       "1  b  2\n",
       "2  c  3\n",
       "3  d  4"
      ]
     },
     "execution_count": 58,
     "metadata": {},
     "output_type": "execute_result"
    }
   ],
   "source": [
    "df"
   ]
  },
  {
   "cell_type": "code",
   "execution_count": 61,
   "metadata": {},
   "outputs": [],
   "source": [
    "df.columns=['c1','c2']"
   ]
  },
  {
   "cell_type": "code",
   "execution_count": 62,
   "metadata": {},
   "outputs": [
    {
     "data": {
      "text/plain": [
       "0    a\n",
       "1    b\n",
       "2    c\n",
       "3    d\n",
       "Name: c1, dtype: object"
      ]
     },
     "execution_count": 62,
     "metadata": {},
     "output_type": "execute_result"
    }
   ],
   "source": [
    "df['c1']"
   ]
  },
  {
   "cell_type": "code",
   "execution_count": 74,
   "metadata": {},
   "outputs": [],
   "source": [
    "df=pd.read_csv(\"https://raw.githubusercontent.com/urmi-21/python3-dataScience18/master/data/iris.data.csv\")"
   ]
  },
  {
   "cell_type": "code",
   "execution_count": 75,
   "metadata": {},
   "outputs": [
    {
     "data": {
      "text/html": [
       "<div>\n",
       "<style scoped>\n",
       "    .dataframe tbody tr th:only-of-type {\n",
       "        vertical-align: middle;\n",
       "    }\n",
       "\n",
       "    .dataframe tbody tr th {\n",
       "        vertical-align: top;\n",
       "    }\n",
       "\n",
       "    .dataframe thead th {\n",
       "        text-align: right;\n",
       "    }\n",
       "</style>\n",
       "<table border=\"1\" class=\"dataframe\">\n",
       "  <thead>\n",
       "    <tr style=\"text-align: right;\">\n",
       "      <th></th>\n",
       "      <th>sepallength</th>\n",
       "      <th>sepalwidth</th>\n",
       "      <th>petallength</th>\n",
       "      <th>petalwidth</th>\n",
       "    </tr>\n",
       "  </thead>\n",
       "  <tbody>\n",
       "    <tr>\n",
       "      <th>count</th>\n",
       "      <td>150.000000</td>\n",
       "      <td>150.000000</td>\n",
       "      <td>150.000000</td>\n",
       "      <td>150.000000</td>\n",
       "    </tr>\n",
       "    <tr>\n",
       "      <th>mean</th>\n",
       "      <td>5.843333</td>\n",
       "      <td>3.054000</td>\n",
       "      <td>3.758667</td>\n",
       "      <td>1.198667</td>\n",
       "    </tr>\n",
       "    <tr>\n",
       "      <th>std</th>\n",
       "      <td>0.828066</td>\n",
       "      <td>0.433594</td>\n",
       "      <td>1.764420</td>\n",
       "      <td>0.763161</td>\n",
       "    </tr>\n",
       "    <tr>\n",
       "      <th>min</th>\n",
       "      <td>4.300000</td>\n",
       "      <td>2.000000</td>\n",
       "      <td>1.000000</td>\n",
       "      <td>0.100000</td>\n",
       "    </tr>\n",
       "    <tr>\n",
       "      <th>25%</th>\n",
       "      <td>5.100000</td>\n",
       "      <td>2.800000</td>\n",
       "      <td>1.600000</td>\n",
       "      <td>0.300000</td>\n",
       "    </tr>\n",
       "    <tr>\n",
       "      <th>50%</th>\n",
       "      <td>5.800000</td>\n",
       "      <td>3.000000</td>\n",
       "      <td>4.350000</td>\n",
       "      <td>1.300000</td>\n",
       "    </tr>\n",
       "    <tr>\n",
       "      <th>75%</th>\n",
       "      <td>6.400000</td>\n",
       "      <td>3.300000</td>\n",
       "      <td>5.100000</td>\n",
       "      <td>1.800000</td>\n",
       "    </tr>\n",
       "    <tr>\n",
       "      <th>max</th>\n",
       "      <td>7.900000</td>\n",
       "      <td>4.400000</td>\n",
       "      <td>6.900000</td>\n",
       "      <td>2.500000</td>\n",
       "    </tr>\n",
       "  </tbody>\n",
       "</table>\n",
       "</div>"
      ],
      "text/plain": [
       "       sepallength  sepalwidth  petallength  petalwidth\n",
       "count   150.000000  150.000000   150.000000  150.000000\n",
       "mean      5.843333    3.054000     3.758667    1.198667\n",
       "std       0.828066    0.433594     1.764420    0.763161\n",
       "min       4.300000    2.000000     1.000000    0.100000\n",
       "25%       5.100000    2.800000     1.600000    0.300000\n",
       "50%       5.800000    3.000000     4.350000    1.300000\n",
       "75%       6.400000    3.300000     5.100000    1.800000\n",
       "max       7.900000    4.400000     6.900000    2.500000"
      ]
     },
     "execution_count": 75,
     "metadata": {},
     "output_type": "execute_result"
    }
   ],
   "source": [
    "df.describe()"
   ]
  },
  {
   "cell_type": "code",
   "execution_count": 76,
   "metadata": {},
   "outputs": [
    {
     "data": {
      "text/plain": [
       "(150, 5)"
      ]
     },
     "execution_count": 76,
     "metadata": {},
     "output_type": "execute_result"
    }
   ],
   "source": [
    "df.shape"
   ]
  },
  {
   "cell_type": "code",
   "execution_count": 77,
   "metadata": {},
   "outputs": [
    {
     "data": {
      "text/html": [
       "<div>\n",
       "<style scoped>\n",
       "    .dataframe tbody tr th:only-of-type {\n",
       "        vertical-align: middle;\n",
       "    }\n",
       "\n",
       "    .dataframe tbody tr th {\n",
       "        vertical-align: top;\n",
       "    }\n",
       "\n",
       "    .dataframe thead th {\n",
       "        text-align: right;\n",
       "    }\n",
       "</style>\n",
       "<table border=\"1\" class=\"dataframe\">\n",
       "  <thead>\n",
       "    <tr style=\"text-align: right;\">\n",
       "      <th></th>\n",
       "      <th>sepallength</th>\n",
       "      <th>sepalwidth</th>\n",
       "      <th>petallength</th>\n",
       "      <th>petalwidth</th>\n",
       "      <th>class</th>\n",
       "    </tr>\n",
       "  </thead>\n",
       "  <tbody>\n",
       "    <tr>\n",
       "      <th>0</th>\n",
       "      <td>5.1</td>\n",
       "      <td>3.5</td>\n",
       "      <td>1.4</td>\n",
       "      <td>0.2</td>\n",
       "      <td>Iris-setosa</td>\n",
       "    </tr>\n",
       "    <tr>\n",
       "      <th>1</th>\n",
       "      <td>4.9</td>\n",
       "      <td>3.0</td>\n",
       "      <td>1.4</td>\n",
       "      <td>0.2</td>\n",
       "      <td>Iris-setosa</td>\n",
       "    </tr>\n",
       "    <tr>\n",
       "      <th>2</th>\n",
       "      <td>4.7</td>\n",
       "      <td>3.2</td>\n",
       "      <td>1.3</td>\n",
       "      <td>0.2</td>\n",
       "      <td>Iris-setosa</td>\n",
       "    </tr>\n",
       "    <tr>\n",
       "      <th>3</th>\n",
       "      <td>4.6</td>\n",
       "      <td>3.1</td>\n",
       "      <td>1.5</td>\n",
       "      <td>0.2</td>\n",
       "      <td>Iris-setosa</td>\n",
       "    </tr>\n",
       "    <tr>\n",
       "      <th>4</th>\n",
       "      <td>5.0</td>\n",
       "      <td>3.6</td>\n",
       "      <td>1.4</td>\n",
       "      <td>0.2</td>\n",
       "      <td>Iris-setosa</td>\n",
       "    </tr>\n",
       "    <tr>\n",
       "      <th>5</th>\n",
       "      <td>5.4</td>\n",
       "      <td>3.9</td>\n",
       "      <td>1.7</td>\n",
       "      <td>0.4</td>\n",
       "      <td>Iris-setosa</td>\n",
       "    </tr>\n",
       "    <tr>\n",
       "      <th>6</th>\n",
       "      <td>4.6</td>\n",
       "      <td>3.4</td>\n",
       "      <td>1.4</td>\n",
       "      <td>0.3</td>\n",
       "      <td>Iris-setosa</td>\n",
       "    </tr>\n",
       "    <tr>\n",
       "      <th>7</th>\n",
       "      <td>5.0</td>\n",
       "      <td>3.4</td>\n",
       "      <td>1.5</td>\n",
       "      <td>0.2</td>\n",
       "      <td>Iris-setosa</td>\n",
       "    </tr>\n",
       "    <tr>\n",
       "      <th>8</th>\n",
       "      <td>4.4</td>\n",
       "      <td>2.9</td>\n",
       "      <td>1.4</td>\n",
       "      <td>0.2</td>\n",
       "      <td>Iris-setosa</td>\n",
       "    </tr>\n",
       "    <tr>\n",
       "      <th>9</th>\n",
       "      <td>4.9</td>\n",
       "      <td>3.1</td>\n",
       "      <td>1.5</td>\n",
       "      <td>0.1</td>\n",
       "      <td>Iris-setosa</td>\n",
       "    </tr>\n",
       "  </tbody>\n",
       "</table>\n",
       "</div>"
      ],
      "text/plain": [
       "   sepallength  sepalwidth  petallength  petalwidth        class\n",
       "0          5.1         3.5          1.4         0.2  Iris-setosa\n",
       "1          4.9         3.0          1.4         0.2  Iris-setosa\n",
       "2          4.7         3.2          1.3         0.2  Iris-setosa\n",
       "3          4.6         3.1          1.5         0.2  Iris-setosa\n",
       "4          5.0         3.6          1.4         0.2  Iris-setosa\n",
       "5          5.4         3.9          1.7         0.4  Iris-setosa\n",
       "6          4.6         3.4          1.4         0.3  Iris-setosa\n",
       "7          5.0         3.4          1.5         0.2  Iris-setosa\n",
       "8          4.4         2.9          1.4         0.2  Iris-setosa\n",
       "9          4.9         3.1          1.5         0.1  Iris-setosa"
      ]
     },
     "execution_count": 77,
     "metadata": {},
     "output_type": "execute_result"
    }
   ],
   "source": [
    "df.head(10)"
   ]
  },
  {
   "cell_type": "code",
   "execution_count": 79,
   "metadata": {},
   "outputs": [],
   "source": [
    "groupb=df.groupby('class')"
   ]
  },
  {
   "cell_type": "code",
   "execution_count": 81,
   "metadata": {},
   "outputs": [
    {
     "data": {
      "text/plain": [
       "{'Iris-setosa': Int64Index([ 0,  1,  2,  3,  4,  5,  6,  7,  8,  9, 10, 11, 12, 13, 14, 15, 16,\n",
       "             17, 18, 19, 20, 21, 22, 23, 24, 25, 26, 27, 28, 29, 30, 31, 32, 33,\n",
       "             34, 35, 36, 37, 38, 39, 40, 41, 42, 43, 44, 45, 46, 47, 48, 49],\n",
       "            dtype='int64'),\n",
       " 'Iris-versicolor': Int64Index([50, 51, 52, 53, 54, 55, 56, 57, 58, 59, 60, 61, 62, 63, 64, 65, 66,\n",
       "             67, 68, 69, 70, 71, 72, 73, 74, 75, 76, 77, 78, 79, 80, 81, 82, 83,\n",
       "             84, 85, 86, 87, 88, 89, 90, 91, 92, 93, 94, 95, 96, 97, 98, 99],\n",
       "            dtype='int64'),\n",
       " 'Iris-virginica': Int64Index([100, 101, 102, 103, 104, 105, 106, 107, 108, 109, 110, 111, 112,\n",
       "             113, 114, 115, 116, 117, 118, 119, 120, 121, 122, 123, 124, 125,\n",
       "             126, 127, 128, 129, 130, 131, 132, 133, 134, 135, 136, 137, 138,\n",
       "             139, 140, 141, 142, 143, 144, 145, 146, 147, 148, 149],\n",
       "            dtype='int64')}"
      ]
     },
     "execution_count": 81,
     "metadata": {},
     "output_type": "execute_result"
    }
   ],
   "source": [
    "groupb.groups"
   ]
  },
  {
   "cell_type": "code",
   "execution_count": null,
   "metadata": {},
   "outputs": [],
   "source": []
  }
 ],
 "metadata": {
  "kernelspec": {
   "display_name": "Python 3",
   "language": "python",
   "name": "python3"
  },
  "language_info": {
   "codemirror_mode": {
    "name": "ipython",
    "version": 3
   },
   "file_extension": ".py",
   "mimetype": "text/x-python",
   "name": "python",
   "nbconvert_exporter": "python",
   "pygments_lexer": "ipython3",
   "version": "3.7.0"
  }
 },
 "nbformat": 4,
 "nbformat_minor": 2
}
