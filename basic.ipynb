{
 "cells": [
  {
   "cell_type": "code",
   "execution_count": 1,
   "metadata": {},
   "outputs": [
    {
     "data": {
      "text/plain": [
       "4"
      ]
     },
     "execution_count": 1,
     "metadata": {},
     "output_type": "execute_result"
    }
   ],
   "source": [
    "1+3"
   ]
  },
  {
   "cell_type": "code",
   "execution_count": 2,
   "metadata": {},
   "outputs": [],
   "source": [
    "a=2;b=4;"
   ]
  },
  {
   "cell_type": "code",
   "execution_count": 3,
   "metadata": {},
   "outputs": [
    {
     "data": {
      "text/plain": [
       "10"
      ]
     },
     "execution_count": 3,
     "metadata": {},
     "output_type": "execute_result"
    }
   ],
   "source": [
    "a+2*b"
   ]
  },
  {
   "cell_type": "code",
   "execution_count": 4,
   "metadata": {},
   "outputs": [
    {
     "data": {
      "text/plain": [
       "6.5"
      ]
     },
     "execution_count": 4,
     "metadata": {},
     "output_type": "execute_result"
    }
   ],
   "source": [
    "13/2"
   ]
  },
  {
   "cell_type": "code",
   "execution_count": 5,
   "metadata": {},
   "outputs": [
    {
     "data": {
      "text/plain": [
       "6"
      ]
     },
     "execution_count": 5,
     "metadata": {},
     "output_type": "execute_result"
    }
   ],
   "source": [
    "13//2"
   ]
  },
  {
   "cell_type": "code",
   "execution_count": 6,
   "metadata": {},
   "outputs": [
    {
     "data": {
      "text/plain": [
       "1"
      ]
     },
     "execution_count": 6,
     "metadata": {},
     "output_type": "execute_result"
    }
   ],
   "source": [
    "13%2"
   ]
  },
  {
   "cell_type": "code",
   "execution_count": 7,
   "metadata": {},
   "outputs": [
    {
     "data": {
      "text/plain": [
       "0"
      ]
     },
     "execution_count": 7,
     "metadata": {},
     "output_type": "execute_result"
    }
   ],
   "source": [
    "50%10"
   ]
  },
  {
   "cell_type": "code",
   "execution_count": 8,
   "metadata": {},
   "outputs": [
    {
     "data": {
      "text/plain": [
       "2"
      ]
     },
     "execution_count": 8,
     "metadata": {},
     "output_type": "execute_result"
    }
   ],
   "source": [
    "2%10"
   ]
  },
  {
   "cell_type": "code",
   "execution_count": 9,
   "metadata": {},
   "outputs": [],
   "source": [
    "my_name = \"test test\""
   ]
  },
  {
   "cell_type": "code",
   "execution_count": 10,
   "metadata": {},
   "outputs": [
    {
     "data": {
      "text/plain": [
       "'test test'"
      ]
     },
     "execution_count": 10,
     "metadata": {},
     "output_type": "execute_result"
    }
   ],
   "source": [
    "my_name"
   ]
  },
  {
   "cell_type": "code",
   "execution_count": 11,
   "metadata": {},
   "outputs": [
    {
     "data": {
      "text/plain": [
       "'t'"
      ]
     },
     "execution_count": 11,
     "metadata": {},
     "output_type": "execute_result"
    }
   ],
   "source": [
    "my_name[0]"
   ]
  },
  {
   "cell_type": "code",
   "execution_count": 12,
   "metadata": {},
   "outputs": [
    {
     "data": {
      "text/plain": [
       "9"
      ]
     },
     "execution_count": 12,
     "metadata": {},
     "output_type": "execute_result"
    }
   ],
   "source": [
    "len(my_name)"
   ]
  },
  {
   "cell_type": "code",
   "execution_count": 13,
   "metadata": {},
   "outputs": [
    {
     "data": {
      "text/plain": [
       "'t'"
      ]
     },
     "execution_count": 13,
     "metadata": {},
     "output_type": "execute_result"
    }
   ],
   "source": [
    "my_name[len(my_name)-1]"
   ]
  },
  {
   "cell_type": "code",
   "execution_count": 14,
   "metadata": {},
   "outputs": [
    {
     "data": {
      "text/plain": [
       "'t'"
      ]
     },
     "execution_count": 14,
     "metadata": {},
     "output_type": "execute_result"
    }
   ],
   "source": [
    "my_name[-1]"
   ]
  },
  {
   "cell_type": "code",
   "execution_count": 15,
   "metadata": {},
   "outputs": [
    {
     "data": {
      "text/plain": [
       "'ts et'"
      ]
     },
     "execution_count": 15,
     "metadata": {},
     "output_type": "execute_result"
    }
   ],
   "source": [
    "my_name[::2]"
   ]
  },
  {
   "cell_type": "code",
   "execution_count": 16,
   "metadata": {},
   "outputs": [
    {
     "data": {
      "text/plain": [
       "'test test'"
      ]
     },
     "execution_count": 16,
     "metadata": {},
     "output_type": "execute_result"
    }
   ],
   "source": [
    "my_name"
   ]
  },
  {
   "cell_type": "code",
   "execution_count": 17,
   "metadata": {},
   "outputs": [
    {
     "data": {
      "text/plain": [
       "['test', 'test']"
      ]
     },
     "execution_count": 17,
     "metadata": {},
     "output_type": "execute_result"
    }
   ],
   "source": [
    "my_name.split()"
   ]
  },
  {
   "cell_type": "code",
   "execution_count": 24,
   "metadata": {},
   "outputs": [
    {
     "data": {
      "text/plain": [
       "'test'"
      ]
     },
     "execution_count": 24,
     "metadata": {},
     "output_type": "execute_result"
    }
   ],
   "source": [
    "my_name[:len(my_name)//2]"
   ]
  },
  {
   "cell_type": "code",
   "execution_count": 25,
   "metadata": {},
   "outputs": [
    {
     "data": {
      "text/plain": [
       "' test'"
      ]
     },
     "execution_count": 25,
     "metadata": {},
     "output_type": "execute_result"
    }
   ],
   "source": [
    "my_name[len(my_name)//2:]"
   ]
  },
  {
   "cell_type": "code",
   "execution_count": 26,
   "metadata": {},
   "outputs": [
    {
     "data": {
      "text/plain": [
       "'tte'"
      ]
     },
     "execution_count": 26,
     "metadata": {},
     "output_type": "execute_result"
    }
   ],
   "source": [
    "my_name[::3]"
   ]
  },
  {
   "cell_type": "code",
   "execution_count": 27,
   "metadata": {},
   "outputs": [
    {
     "data": {
      "text/plain": [
       "'tset tset'"
      ]
     },
     "execution_count": 27,
     "metadata": {},
     "output_type": "execute_result"
    }
   ],
   "source": [
    "my_name[::-1]"
   ]
  },
  {
   "cell_type": "code",
   "execution_count": 31,
   "metadata": {},
   "outputs": [
    {
     "data": {
      "text/plain": [
       "['test', 'test']"
      ]
     },
     "execution_count": 31,
     "metadata": {},
     "output_type": "execute_result"
    }
   ],
   "source": [
    "my_name.split()"
   ]
  },
  {
   "cell_type": "code",
   "execution_count": 32,
   "metadata": {},
   "outputs": [],
   "source": [
    "my_list = ['apple','banana','cherry','date']"
   ]
  },
  {
   "cell_type": "code",
   "execution_count": 33,
   "metadata": {},
   "outputs": [
    {
     "data": {
      "text/plain": [
       "['apple', 'banana', 'cherry', 'date']"
      ]
     },
     "execution_count": 33,
     "metadata": {},
     "output_type": "execute_result"
    }
   ],
   "source": [
    "my_list"
   ]
  },
  {
   "cell_type": "code",
   "execution_count": 34,
   "metadata": {},
   "outputs": [
    {
     "data": {
      "text/plain": [
       "'banana'"
      ]
     },
     "execution_count": 34,
     "metadata": {},
     "output_type": "execute_result"
    }
   ],
   "source": [
    "my_list[1]"
   ]
  },
  {
   "cell_type": "code",
   "execution_count": 35,
   "metadata": {},
   "outputs": [
    {
     "data": {
      "text/plain": [
       "['cherry', 'date']"
      ]
     },
     "execution_count": 35,
     "metadata": {},
     "output_type": "execute_result"
    }
   ],
   "source": [
    "my_list[2:4]"
   ]
  },
  {
   "cell_type": "code",
   "execution_count": 36,
   "metadata": {},
   "outputs": [
    {
     "data": {
      "text/plain": [
       "['date', 'cherry', 'banana', 'apple']"
      ]
     },
     "execution_count": 36,
     "metadata": {},
     "output_type": "execute_result"
    }
   ],
   "source": [
    "my_list[::-1]"
   ]
  },
  {
   "cell_type": "code",
   "execution_count": 37,
   "metadata": {},
   "outputs": [
    {
     "data": {
      "text/plain": [
       "True"
      ]
     },
     "execution_count": 37,
     "metadata": {},
     "output_type": "execute_result"
    }
   ],
   "source": [
    "'apple' in my_list"
   ]
  },
  {
   "cell_type": "code",
   "execution_count": 38,
   "metadata": {},
   "outputs": [
    {
     "data": {
      "text/plain": [
       "True"
      ]
     },
     "execution_count": 38,
     "metadata": {},
     "output_type": "execute_result"
    }
   ],
   "source": [
    "\"apple\" in my_list"
   ]
  },
  {
   "cell_type": "code",
   "execution_count": 39,
   "metadata": {},
   "outputs": [
    {
     "data": {
      "text/plain": [
       "False"
      ]
     },
     "execution_count": 39,
     "metadata": {},
     "output_type": "execute_result"
    }
   ],
   "source": [
    "'pineapple' in my_list"
   ]
  },
  {
   "cell_type": "code",
   "execution_count": 40,
   "metadata": {},
   "outputs": [],
   "source": [
    "my_list.append('pineapple')"
   ]
  },
  {
   "cell_type": "code",
   "execution_count": 41,
   "metadata": {},
   "outputs": [
    {
     "data": {
      "text/plain": [
       "['apple', 'banana', 'cherry', 'date', 'pineapple']"
      ]
     },
     "execution_count": 41,
     "metadata": {},
     "output_type": "execute_result"
    }
   ],
   "source": [
    "my_list"
   ]
  },
  {
   "cell_type": "code",
   "execution_count": 42,
   "metadata": {},
   "outputs": [],
   "source": [
    "my_list.append(1)"
   ]
  },
  {
   "cell_type": "code",
   "execution_count": 43,
   "metadata": {},
   "outputs": [
    {
     "data": {
      "text/plain": [
       "['apple', 'banana', 'cherry', 'date', 'pineapple', 1]"
      ]
     },
     "execution_count": 43,
     "metadata": {},
     "output_type": "execute_result"
    }
   ],
   "source": [
    "my_list"
   ]
  },
  {
   "cell_type": "code",
   "execution_count": 44,
   "metadata": {},
   "outputs": [],
   "source": [
    "my_list.append('Paul')"
   ]
  },
  {
   "cell_type": "code",
   "execution_count": 45,
   "metadata": {},
   "outputs": [],
   "source": [
    "my_list.extend(['chocolate chip','Macademia nut','oatmeal'])"
   ]
  },
  {
   "cell_type": "code",
   "execution_count": 46,
   "metadata": {},
   "outputs": [
    {
     "data": {
      "text/plain": [
       "['apple',\n",
       " 'banana',\n",
       " 'cherry',\n",
       " 'date',\n",
       " 'pineapple',\n",
       " 1,\n",
       " 'Paul',\n",
       " 'chocolate chip',\n",
       " 'Macademia nut',\n",
       " 'oatmeal']"
      ]
     },
     "execution_count": 46,
     "metadata": {},
     "output_type": "execute_result"
    }
   ],
   "source": [
    "my_list"
   ]
  },
  {
   "cell_type": "code",
   "execution_count": 47,
   "metadata": {},
   "outputs": [],
   "source": [
    "del my_list[7]"
   ]
  },
  {
   "cell_type": "code",
   "execution_count": 48,
   "metadata": {},
   "outputs": [
    {
     "data": {
      "text/plain": [
       "['apple',\n",
       " 'banana',\n",
       " 'cherry',\n",
       " 'date',\n",
       " 'pineapple',\n",
       " 1,\n",
       " 'Paul',\n",
       " 'Macademia nut',\n",
       " 'oatmeal']"
      ]
     },
     "execution_count": 48,
     "metadata": {},
     "output_type": "execute_result"
    }
   ],
   "source": [
    "my_list"
   ]
  },
  {
   "cell_type": "code",
   "execution_count": 49,
   "metadata": {},
   "outputs": [
    {
     "data": {
      "text/plain": [
       "'oatmeal'"
      ]
     },
     "execution_count": 49,
     "metadata": {},
     "output_type": "execute_result"
    }
   ],
   "source": [
    "my_list.pop(-1)"
   ]
  },
  {
   "cell_type": "code",
   "execution_count": 50,
   "metadata": {},
   "outputs": [
    {
     "data": {
      "text/plain": [
       "['apple', 'banana', 'cherry', 'date', 'pineapple', 1, 'Paul', 'Macademia nut']"
      ]
     },
     "execution_count": 50,
     "metadata": {},
     "output_type": "execute_result"
    }
   ],
   "source": [
    "my_list"
   ]
  },
  {
   "cell_type": "code",
   "execution_count": 51,
   "metadata": {},
   "outputs": [],
   "source": [
    "my_list.remove('Macademia nut')"
   ]
  },
  {
   "cell_type": "code",
   "execution_count": 52,
   "metadata": {},
   "outputs": [
    {
     "data": {
      "text/plain": [
       "['apple', 'banana', 'cherry', 'date', 'pineapple', 1, 'Paul']"
      ]
     },
     "execution_count": 52,
     "metadata": {},
     "output_type": "execute_result"
    }
   ],
   "source": [
    "my_list"
   ]
  },
  {
   "cell_type": "code",
   "execution_count": 53,
   "metadata": {},
   "outputs": [],
   "source": [
    "my_faves = {\"Song\":\"Nightwave by Wolfclub\",\"Food\":\"Crispy Tofu\",\"TV Show\":\"Because This Is My First Life\"}"
   ]
  },
  {
   "cell_type": "code",
   "execution_count": 54,
   "metadata": {},
   "outputs": [
    {
     "data": {
      "text/plain": [
       "{'Song': 'Nightwave by Wolfclub',\n",
       " 'Food': 'Crispy Tofu',\n",
       " 'TV Show': 'Because This Is My First Life'}"
      ]
     },
     "execution_count": 54,
     "metadata": {},
     "output_type": "execute_result"
    }
   ],
   "source": [
    "my_faves"
   ]
  },
  {
   "cell_type": "code",
   "execution_count": 56,
   "metadata": {},
   "outputs": [
    {
     "data": {
      "text/plain": [
       "'Crispy Tofu'"
      ]
     },
     "execution_count": 56,
     "metadata": {},
     "output_type": "execute_result"
    }
   ],
   "source": [
    "my_faves['Food']"
   ]
  },
  {
   "cell_type": "code",
   "execution_count": 57,
   "metadata": {},
   "outputs": [
    {
     "data": {
      "text/plain": [
       "True"
      ]
     },
     "execution_count": 57,
     "metadata": {},
     "output_type": "execute_result"
    }
   ],
   "source": [
    "\"Song\" in my_faves"
   ]
  },
  {
   "cell_type": "code",
   "execution_count": 58,
   "metadata": {},
   "outputs": [
    {
     "data": {
      "text/plain": [
       "False"
      ]
     },
     "execution_count": 58,
     "metadata": {},
     "output_type": "execute_result"
    }
   ],
   "source": [
    "\"Person\" in my_faves"
   ]
  },
  {
   "cell_type": "code",
   "execution_count": 59,
   "metadata": {},
   "outputs": [],
   "source": [
    "my_faves[\"Person\"] = \"Me\""
   ]
  },
  {
   "cell_type": "code",
   "execution_count": 60,
   "metadata": {},
   "outputs": [
    {
     "data": {
      "text/plain": [
       "{'Song': 'Nightwave by Wolfclub',\n",
       " 'Food': 'Crispy Tofu',\n",
       " 'TV Show': 'Because This Is My First Life',\n",
       " 'Person': 'Me'}"
      ]
     },
     "execution_count": 60,
     "metadata": {},
     "output_type": "execute_result"
    }
   ],
   "source": [
    "my_faves"
   ]
  },
  {
   "cell_type": "code",
   "execution_count": 62,
   "metadata": {},
   "outputs": [],
   "source": [
    "my_faves[\"Song\"] = \"waves by Miguel\""
   ]
  },
  {
   "cell_type": "code",
   "execution_count": 63,
   "metadata": {},
   "outputs": [
    {
     "data": {
      "text/plain": [
       "{'Song': 'waves by Miguel',\n",
       " 'Food': 'Crispy Tofu',\n",
       " 'TV Show': 'Because This Is My First Life',\n",
       " 'Person': 'Me'}"
      ]
     },
     "execution_count": 63,
     "metadata": {},
     "output_type": "execute_result"
    }
   ],
   "source": [
    "my_faves"
   ]
  },
  {
   "cell_type": "code",
   "execution_count": 66,
   "metadata": {},
   "outputs": [],
   "source": [
    "my_faves[\"Song\"] = [\"wave by Miguel\", \"Nightwave by Wolfclub\", \"Everything\"]"
   ]
  },
  {
   "cell_type": "code",
   "execution_count": 67,
   "metadata": {},
   "outputs": [
    {
     "data": {
      "text/plain": [
       "{'Song': ['wave by Miguel', 'Nightwave by Wolfclub', 'Everything'],\n",
       " 'Food': 'Crispy Tofu',\n",
       " 'TV Show': 'Because This Is My First Life',\n",
       " 'Person': 'Me'}"
      ]
     },
     "execution_count": 67,
     "metadata": {},
     "output_type": "execute_result"
    }
   ],
   "source": [
    "my_faves"
   ]
  },
  {
   "cell_type": "code",
   "execution_count": 72,
   "metadata": {},
   "outputs": [
    {
     "data": {
      "text/plain": [
       "'wave by Miguel'"
      ]
     },
     "execution_count": 72,
     "metadata": {},
     "output_type": "execute_result"
    }
   ],
   "source": [
    "my_faves[\"Song\"][0]"
   ]
  },
  {
   "cell_type": "code",
   "execution_count": 73,
   "metadata": {},
   "outputs": [
    {
     "data": {
      "text/plain": [
       "\"When I'm With You by Best Coast\""
      ]
     },
     "execution_count": 73,
     "metadata": {},
     "output_type": "execute_result"
    }
   ],
   "source": [
    "my_faves[\"Song\"] = {\n",
    "    \"Happy\": \"When I'm With You by Best Coast\",\n",
    "    \"Sad\": \"I Need My Girl by The National\",\n",
    "    \"Confused\": \"Baptism by Crystal Castles\"\n",
    "}\n",
    "my_faves[\"Song\"][\"Happy\"]"
   ]
  },
  {
   "cell_type": "code",
   "execution_count": 74,
   "metadata": {},
   "outputs": [],
   "source": [
    "my_faves[\"Happy\"] = \"I'm happy\""
   ]
  },
  {
   "cell_type": "code",
   "execution_count": 75,
   "metadata": {},
   "outputs": [],
   "source": [
    "my_faves[\"Sad\"] = \"I'm not sad\""
   ]
  },
  {
   "cell_type": "code",
   "execution_count": 76,
   "metadata": {},
   "outputs": [],
   "source": [
    "my_faves[\"Movie\"] = [\"movie1\",\"moive2\"]"
   ]
  },
  {
   "cell_type": "code",
   "execution_count": 77,
   "metadata": {},
   "outputs": [
    {
     "data": {
      "text/plain": [
       "{'Song': {'Happy': \"When I'm With You by Best Coast\",\n",
       "  'Sad': 'I Need My Girl by The National',\n",
       "  'Confused': 'Baptism by Crystal Castles'},\n",
       " 'Food': 'Crispy Tofu',\n",
       " 'TV Show': 'Because This Is My First Life',\n",
       " 'Person': 'Me',\n",
       " 'Happy': \"I'm happy\",\n",
       " 'Sad': \"I'm not sad\",\n",
       " 'Movie': ['movie1', 'moive2']}"
      ]
     },
     "execution_count": 77,
     "metadata": {},
     "output_type": "execute_result"
    }
   ],
   "source": [
    "my_faves"
   ]
  },
  {
   "cell_type": "code",
   "execution_count": 78,
   "metadata": {},
   "outputs": [
    {
     "data": {
      "text/plain": [
       "7"
      ]
     },
     "execution_count": 78,
     "metadata": {},
     "output_type": "execute_result"
    }
   ],
   "source": [
    "len(my_faves)"
   ]
  },
  {
   "cell_type": "code",
   "execution_count": 79,
   "metadata": {},
   "outputs": [
    {
     "data": {
      "text/plain": [
       "dict_keys(['Song', 'Food', 'TV Show', 'Person', 'Happy', 'Sad', 'Movie'])"
      ]
     },
     "execution_count": 79,
     "metadata": {},
     "output_type": "execute_result"
    }
   ],
   "source": [
    "my_faves.keys()"
   ]
  },
  {
   "cell_type": "code",
   "execution_count": 81,
   "metadata": {},
   "outputs": [
    {
     "data": {
      "text/plain": [
       "\"When I'm With You by Best Coast\""
      ]
     },
     "execution_count": 81,
     "metadata": {},
     "output_type": "execute_result"
    }
   ],
   "source": [
    "my_faves[\"Song\"][\"Happy\"]"
   ]
  },
  {
   "cell_type": "code",
   "execution_count": 82,
   "metadata": {},
   "outputs": [
    {
     "data": {
      "text/plain": [
       "3"
      ]
     },
     "execution_count": 82,
     "metadata": {},
     "output_type": "execute_result"
    }
   ],
   "source": [
    "len(my_faves[\"Song\"])"
   ]
  },
  {
   "cell_type": "code",
   "execution_count": 83,
   "metadata": {},
   "outputs": [
    {
     "data": {
      "text/plain": [
       "'{\\'Song\\': {\\'Happy\\': \"When I\\'m With You by Best Coast\", \\'Sad\\': \\'I Need My Girl by The National\\', \\'Confused\\': \\'Baptism by Crystal Castles\\'}, \\'Food\\': \\'Crispy Tofu\\', \\'TV Show\\': \\'Because This Is My First Life\\', \\'Person\\': \\'Me\\', \\'Happy\\': \"I\\'m happy\", \\'Sad\\': \"I\\'m not sad\", \\'Movie\\': [\\'movie1\\', \\'moive2\\']}'"
      ]
     },
     "execution_count": 83,
     "metadata": {},
     "output_type": "execute_result"
    }
   ],
   "source": [
    "str(my_faves)"
   ]
  },
  {
   "cell_type": "code",
   "execution_count": 85,
   "metadata": {},
   "outputs": [
    {
     "data": {
      "text/plain": [
       "dict"
      ]
     },
     "execution_count": 85,
     "metadata": {},
     "output_type": "execute_result"
    }
   ],
   "source": [
    "type(my_faves)"
   ]
  },
  {
   "cell_type": "code",
   "execution_count": 86,
   "metadata": {},
   "outputs": [
    {
     "data": {
      "text/plain": [
       "list"
      ]
     },
     "execution_count": 86,
     "metadata": {},
     "output_type": "execute_result"
    }
   ],
   "source": [
    "type(my_list)"
   ]
  },
  {
   "cell_type": "code",
   "execution_count": 87,
   "metadata": {},
   "outputs": [
    {
     "data": {
      "text/plain": [
       "str"
      ]
     },
     "execution_count": 87,
     "metadata": {},
     "output_type": "execute_result"
    }
   ],
   "source": [
    "type(my_name)"
   ]
  },
  {
   "cell_type": "code",
   "execution_count": 88,
   "metadata": {},
   "outputs": [
    {
     "name": "stdout",
     "output_type": "stream",
     "text": [
      "Hey man sup\n"
     ]
    }
   ],
   "source": [
    "print(\"Hey man sup\")"
   ]
  },
  {
   "cell_type": "code",
   "execution_count": 89,
   "metadata": {},
   "outputs": [
    {
     "name": "stdout",
     "output_type": "stream",
     "text": [
      "['apple', 'banana', 'cherry', 'date', 'pineapple', 1, 'Paul']\n"
     ]
    }
   ],
   "source": [
    "print(my_list)"
   ]
  },
  {
   "cell_type": "code",
   "execution_count": 90,
   "metadata": {},
   "outputs": [
    {
     "name": "stdout",
     "output_type": "stream",
     "text": [
      "test test\n"
     ]
    }
   ],
   "source": [
    "print(my_name)"
   ]
  },
  {
   "cell_type": "code",
   "execution_count": 91,
   "metadata": {},
   "outputs": [
    {
     "name": "stdout",
     "output_type": "stream",
     "text": [
      "{'Song': {'Happy': \"When I'm With You by Best Coast\", 'Sad': 'I Need My Girl by The National', 'Confused': 'Baptism by Crystal Castles'}, 'Food': 'Crispy Tofu', 'TV Show': 'Because This Is My First Life', 'Person': 'Me', 'Happy': \"I'm happy\", 'Sad': \"I'm not sad\", 'Movie': ['movie1', 'moive2']}\n"
     ]
    }
   ],
   "source": [
    "print(my_faves)"
   ]
  },
  {
   "cell_type": "code",
   "execution_count": 97,
   "metadata": {},
   "outputs": [
    {
     "name": "stdout",
     "output_type": "stream",
     "text": [
      "my favorite prime numbers are 13 and 15.\n"
     ]
    }
   ],
   "source": [
    "fav_prime_1 = 13\n",
    "fav_prime_2 = 15\n",
    "print(\"my favorite prime numbers are \", fav_prime_1, \" and \", fav_prime_2,\".\",sep=\"\")"
   ]
  },
  {
   "cell_type": "code",
   "execution_count": 98,
   "metadata": {},
   "outputs": [
    {
     "name": "stdout",
     "output_type": "stream",
     "text": [
      "My favorite prime numbers are 13 and 15.\n"
     ]
    }
   ],
   "source": [
    "print(\"My favorite prime numbers are {} and {}.\".format(fav_prime_1,fav_prime_2))"
   ]
  },
  {
   "cell_type": "code",
   "execution_count": 104,
   "metadata": {},
   "outputs": [
    {
     "name": "stdout",
     "output_type": "stream",
     "text": [
      "My favorite happy song is When I'm With You by Best Coast and my favorite sad song is I Need My Girl by The National\n"
     ]
    }
   ],
   "source": [
    "print(\"My favorite happy song is {} and my favorite sad song is {}\".format(my_faves[\"Song\"][\"Happy\"],my_faves[\"Song\"][\"Sad\"]))"
   ]
  },
  {
   "cell_type": "code",
   "execution_count": 105,
   "metadata": {},
   "outputs": [
    {
     "name": "stdout",
     "output_type": "stream",
     "text": [
      "I just want to go home, watch Because This Is My First Life, and eat Crispy Tofu\n"
     ]
    }
   ],
   "source": [
    "print(\"I just want to go home, watch {}, and eat {}\".format(my_faves[\"TV Show\"],my_faves[\"Food\"]))"
   ]
  },
  {
   "cell_type": "code",
   "execution_count": 106,
   "metadata": {},
   "outputs": [
    {
     "data": {
      "text/plain": [
       "{'Happy': \"When I'm With You by Best Coast\",\n",
       " 'Sad': 'I Need My Girl by The National',\n",
       " 'Confused': 'Baptism by Crystal Castles'}"
      ]
     },
     "execution_count": 106,
     "metadata": {},
     "output_type": "execute_result"
    }
   ],
   "source": [
    "my_faves[\"Song\"]"
   ]
  },
  {
   "cell_type": "code",
   "execution_count": 107,
   "metadata": {},
   "outputs": [
    {
     "data": {
      "text/plain": [
       "{'Song': {'Happy': \"When I'm With You by Best Coast\",\n",
       "  'Sad': 'I Need My Girl by The National',\n",
       "  'Confused': 'Baptism by Crystal Castles'},\n",
       " 'Food': 'Crispy Tofu',\n",
       " 'TV Show': 'Because This Is My First Life',\n",
       " 'Person': 'Me',\n",
       " 'Happy': \"I'm happy\",\n",
       " 'Sad': \"I'm not sad\",\n",
       " 'Movie': ['movie1', 'moive2']}"
      ]
     },
     "execution_count": 107,
     "metadata": {},
     "output_type": "execute_result"
    }
   ],
   "source": [
    "my_faves"
   ]
  },
  {
   "cell_type": "code",
   "execution_count": 109,
   "metadata": {},
   "outputs": [],
   "source": [
    "my_faves[\"Movie\"].append(\"moive3\")"
   ]
  },
  {
   "cell_type": "code",
   "execution_count": 110,
   "metadata": {},
   "outputs": [
    {
     "data": {
      "text/plain": [
       "['movie1', 'moive2', 'moive3']"
      ]
     },
     "execution_count": 110,
     "metadata": {},
     "output_type": "execute_result"
    }
   ],
   "source": [
    "my_faves[\"Movie\"]"
   ]
  },
  {
   "cell_type": "code",
   "execution_count": 111,
   "metadata": {},
   "outputs": [],
   "source": [
    "animals = ['cow','chicken','fish','crawfish']"
   ]
  },
  {
   "cell_type": "code",
   "execution_count": 112,
   "metadata": {},
   "outputs": [
    {
     "name": "stdout",
     "output_type": "stream",
     "text": [
      "cow\n",
      "chicken\n",
      "fish\n",
      "crawfish\n"
     ]
    }
   ],
   "source": [
    "for animal in animals: print(animal)"
   ]
  },
  {
   "cell_type": "code",
   "execution_count": 119,
   "metadata": {},
   "outputs": [],
   "source": [
    "my_almost_name = \"Appollion\""
   ]
  },
  {
   "cell_type": "code",
   "execution_count": 120,
   "metadata": {},
   "outputs": [
    {
     "name": "stdout",
     "output_type": "stream",
     "text": [
      "A\n",
      "p\n",
      "p\n",
      "o\n",
      "l\n",
      "l\n",
      "i\n",
      "o\n",
      "n\n"
     ]
    }
   ],
   "source": [
    "for letter in my_almost_name: \n",
    "    print(letter)"
   ]
  },
  {
   "cell_type": "code",
   "execution_count": 121,
   "metadata": {},
   "outputs": [
    {
     "name": "stdout",
     "output_type": "stream",
     "text": [
      "cow\n",
      "chicken\n",
      "fish\n",
      "crawfish\n"
     ]
    }
   ],
   "source": [
    "for i in range(len(animals)): print(animals[i])"
   ]
  },
  {
   "cell_type": "code",
   "execution_count": 122,
   "metadata": {},
   "outputs": [
    {
     "name": "stdout",
     "output_type": "stream",
     "text": [
      "A\n",
      "p\n",
      "p\n",
      "o\n",
      "l\n",
      "l\n",
      "i\n",
      "o\n",
      "n\n"
     ]
    }
   ],
   "source": [
    "for i in range(len(my_almost_name)):\n",
    "    print(my_almost_name[i])"
   ]
  },
  {
   "cell_type": "code",
   "execution_count": 123,
   "metadata": {},
   "outputs": [
    {
     "name": "stdout",
     "output_type": "stream",
     "text": [
      "My favorite food made from cow is hamburger.\n",
      "My favorite food made from chicken is chicken nuggets.\n",
      "My favorite food made from fish is lemon salmon thing.\n",
      "My favorite food made from crawfish is crawfish.\n"
     ]
    }
   ],
   "source": [
    "foods = ['hamburger', 'chicken nuggets', 'lemon salmon thing', 'crawfish']\n",
    "for i in range(len(animals)):\n",
    "    print(\"My favorite food made from {} is {}.\".format(\n",
    "    animals[i], foods[i]))"
   ]
  },
  {
   "cell_type": "code",
   "execution_count": 126,
   "metadata": {},
   "outputs": [
    {
     "name": "stdout",
     "output_type": "stream",
     "text": [
      "The best song by Bruno Mars is That's What I Like\n",
      "The best song by Lana Del Ray is 13 Beaches\n",
      "The best song by Jay Park is All I Wanna Do\n",
      "The best song by Nero is Into the Night\n",
      "The best song by Rihanna is Drunk on Love\n",
      "The best song by The Weeknd is What You Need\n"
     ]
    }
   ],
   "source": [
    "best_songs = {\n",
    "    \"Bruno Mars\": \"That's What I Like\",\n",
    "    \"Lana Del Ray\": \"13 Beaches\",\n",
    "    \"Jay Park\": \"All I Wanna Do\",\n",
    "    \"Nero\": \"Into the Night\",\n",
    "    \"Rihanna\": \"Drunk on Love\",\n",
    "    \"The Weeknd\": \"What You Need\"\n",
    "}\n",
    "\n",
    "for artist in best_songs:\n",
    "    print(\"The best song by {} is {}\".format(artist, best_songs[artist]))"
   ]
  },
  {
   "cell_type": "code",
   "execution_count": 127,
   "metadata": {},
   "outputs": [],
   "source": [
    "triples = []"
   ]
  },
  {
   "cell_type": "code",
   "execution_count": 128,
   "metadata": {},
   "outputs": [
    {
     "data": {
      "text/plain": [
       "range(0, 10)"
      ]
     },
     "execution_count": 128,
     "metadata": {},
     "output_type": "execute_result"
    }
   ],
   "source": [
    "range(10)"
   ]
  },
  {
   "cell_type": "code",
   "execution_count": 129,
   "metadata": {},
   "outputs": [],
   "source": [
    "int_list = [1, 2, 3, 4, 5, 6, 7, 8, 9, 10]"
   ]
  },
  {
   "cell_type": "code",
   "execution_count": 130,
   "metadata": {},
   "outputs": [],
   "source": [
    "for i in int_list: triples.append(i*3)"
   ]
  },
  {
   "cell_type": "code",
   "execution_count": 131,
   "metadata": {},
   "outputs": [
    {
     "data": {
      "text/plain": [
       "[1, 2, 3, 4, 5, 6, 7, 8, 9, 10]"
      ]
     },
     "execution_count": 131,
     "metadata": {},
     "output_type": "execute_result"
    }
   ],
   "source": [
    "int_list"
   ]
  },
  {
   "cell_type": "code",
   "execution_count": 132,
   "metadata": {},
   "outputs": [
    {
     "data": {
      "text/plain": [
       "[3, 6, 9, 12, 15, 18, 21, 24, 27, 30]"
      ]
     },
     "execution_count": 132,
     "metadata": {},
     "output_type": "execute_result"
    }
   ],
   "source": [
    "triples"
   ]
  },
  {
   "cell_type": "code",
   "execution_count": 133,
   "metadata": {},
   "outputs": [
    {
     "name": "stdout",
     "output_type": "stream",
     "text": [
      "1 times 3 is 3\n",
      "2 times 3 is 6\n",
      "3 times 3 is 9\n",
      "4 times 3 is 12\n",
      "5 times 3 is 15\n",
      "6 times 3 is 18\n",
      "7 times 3 is 21\n",
      "8 times 3 is 24\n",
      "9 times 3 is 27\n",
      "10 times 3 is 30\n"
     ]
    }
   ],
   "source": [
    "for i in range(len(int_list)): print(\"{} times 3 is {}\".format(int_list[i],triples[i]))"
   ]
  },
  {
   "cell_type": "code",
   "execution_count": 137,
   "metadata": {},
   "outputs": [
    {
     "data": {
      "text/plain": [
       "True"
      ]
     },
     "execution_count": 137,
     "metadata": {},
     "output_type": "execute_result"
    }
   ],
   "source": [
    "\"hamburger\" in foods"
   ]
  },
  {
   "cell_type": "code",
   "execution_count": 138,
   "metadata": {},
   "outputs": [
    {
     "data": {
      "text/plain": [
       "False"
      ]
     },
     "execution_count": 138,
     "metadata": {},
     "output_type": "execute_result"
    }
   ],
   "source": [
    "'hot dog' in foods"
   ]
  },
  {
   "cell_type": "code",
   "execution_count": 140,
   "metadata": {},
   "outputs": [
    {
     "data": {
      "text/plain": [
       "True"
      ]
     },
     "execution_count": 140,
     "metadata": {},
     "output_type": "execute_result"
    }
   ],
   "source": [
    "3>2 and -5<2"
   ]
  },
  {
   "cell_type": "code",
   "execution_count": 142,
   "metadata": {},
   "outputs": [
    {
     "data": {
      "text/plain": [
       "True"
      ]
     },
     "execution_count": 142,
     "metadata": {},
     "output_type": "execute_result"
    }
   ],
   "source": [
    "1*1==1 and \"Bruno Mars\" in best_songs"
   ]
  },
  {
   "cell_type": "code",
   "execution_count": 144,
   "metadata": {},
   "outputs": [
    {
     "data": {
      "text/plain": [
       "True"
      ]
     },
     "execution_count": 144,
     "metadata": {},
     "output_type": "execute_result"
    }
   ],
   "source": [
    " 2000 % 40 or 1<3"
   ]
  },
  {
   "cell_type": "code",
   "execution_count": 149,
   "metadata": {},
   "outputs": [
    {
     "data": {
      "text/plain": [
       "False"
      ]
     },
     "execution_count": 149,
     "metadata": {},
     "output_type": "execute_result"
    }
   ],
   "source": [
    " not(2%2==0)"
   ]
  },
  {
   "cell_type": "code",
   "execution_count": 151,
   "metadata": {},
   "outputs": [
    {
     "data": {
      "text/plain": [
       "True"
      ]
     },
     "execution_count": 151,
     "metadata": {},
     "output_type": "execute_result"
    }
   ],
   "source": [
    "\"Drake\" not in best_songs"
   ]
  },
  {
   "cell_type": "code",
   "execution_count": 154,
   "metadata": {},
   "outputs": [
    {
     "name": "stdout",
     "output_type": "stream",
     "text": [
      "even number is 2\n",
      "even number is 4\n",
      "even number is 6\n",
      "even number is 8\n",
      "even number is 10\n"
     ]
    }
   ],
   "source": [
    "for it in int_list: \n",
    "    if(it%2==0): \n",
    "        print(\"even number is {}\".format(it))"
   ]
  },
  {
   "cell_type": "code",
   "execution_count": 156,
   "metadata": {},
   "outputs": [
    {
     "name": "stdout",
     "output_type": "stream",
     "text": [
      "Stopping by Woods on a Snowy Evening by Robert Frost\n",
      "\n",
      "\n",
      "\n",
      "Whose woods these are I think I know.   \n",
      "\n",
      "His house is in the village though;   \n",
      "\n",
      "He will not see me stopping here   \n",
      "\n",
      "To watch his woods fill up with snow.   \n",
      "\n",
      "\n",
      "\n",
      "My little horse must think it queer   \n",
      "\n",
      "To stop without a farmhouse near   \n",
      "\n",
      "Between the woods and frozen lake   \n",
      "\n",
      "The darkest evening of the year.   \n",
      "\n",
      "\n",
      "\n",
      "He gives his harness bells a shake   \n",
      "\n",
      "To ask if there is some mistake.   \n",
      "\n",
      "The only other sound's the sweep   \n",
      "\n",
      "Of easy wind and downy flake.   \n",
      "\n",
      "\n",
      "\n",
      "The woods are lovely, dark and deep,   \n",
      "\n",
      "But I have promises to keep,   \n",
      "\n",
      "And miles to go before I sleep,   \n",
      "\n",
      "And miles to go before I sleep.\n",
      "\n"
     ]
    }
   ],
   "source": [
    "with open(\"./stories/woods.txt\") as fin:\n",
    "    for line in fin:\n",
    "        print(line)"
   ]
  },
  {
   "cell_type": "code",
   "execution_count": 157,
   "metadata": {},
   "outputs": [
    {
     "name": "stdout",
     "output_type": "stream",
     "text": [
      "Stopping by Woods on a Snowy Evening by Robert Frost\n",
      "\n",
      "Whose woods these are I think I know.\n",
      "His house is in the village though;\n",
      "He will not see me stopping here\n",
      "To watch his woods fill up with snow.\n",
      "\n",
      "My little horse must think it queer\n",
      "To stop without a farmhouse near\n",
      "Between the woods and frozen lake\n",
      "The darkest evening of the year.\n",
      "\n",
      "He gives his harness bells a shake\n",
      "To ask if there is some mistake.\n",
      "The only other sound's the sweep\n",
      "Of easy wind and downy flake.\n",
      "\n",
      "The woods are lovely, dark and deep,\n",
      "But I have promises to keep,\n",
      "And miles to go before I sleep,\n",
      "And miles to go before I sleep.\n"
     ]
    }
   ],
   "source": [
    "with open('./stories/woods.txt') as fin:\n",
    "    for line in fin:\n",
    "        line = line.rstrip()\n",
    "        print(line)"
   ]
  },
  {
   "cell_type": "code",
   "execution_count": 158,
   "metadata": {},
   "outputs": [
    {
     "name": "stdout",
     "output_type": "stream",
     "text": [
      "There are 21 lines in woods.txt.\n"
     ]
    }
   ],
   "source": [
    "line_counter = 0\n",
    "with open('./stories/woods.txt') as fin:\n",
    "    for line in fin:\n",
    "        line_counter +=1\n",
    "\n",
    "print(\"There are {} lines in woods.txt.\".format(\n",
    "line_counter))"
   ]
  },
  {
   "cell_type": "code",
   "execution_count": 159,
   "metadata": {},
   "outputs": [
    {
     "name": "stdout",
     "output_type": "stream",
     "text": [
      "1\tStopping by Woods on a Snowy Evening by Robert Frost\n",
      "2\t\n",
      "3\tWhose woods these are I think I know.\n",
      "4\tHis house is in the village though;\n",
      "5\tHe will not see me stopping here\n",
      "6\tTo watch his woods fill up with snow.\n",
      "7\t\n",
      "8\tMy little horse must think it queer\n",
      "9\tTo stop without a farmhouse near\n",
      "10\tBetween the woods and frozen lake\n",
      "11\tThe darkest evening of the year.\n",
      "12\t\n",
      "13\tHe gives his harness bells a shake\n",
      "14\tTo ask if there is some mistake.\n",
      "15\tThe only other sound's the sweep\n",
      "16\tOf easy wind and downy flake.\n",
      "17\t\n",
      "18\tThe woods are lovely, dark and deep,\n",
      "19\tBut I have promises to keep,\n",
      "20\tAnd miles to go before I sleep,\n",
      "21\tAnd miles to go before I sleep.\n",
      "There are 21 lines in woods.txt.\n"
     ]
    }
   ],
   "source": [
    "line_counter = 0\n",
    "with open('./stories/woods.txt') as fin:\n",
    "    for line in fin:\n",
    "        line_counter += 1\n",
    "        line = line.rstrip()\n",
    "        print(\"{}\\t{}\".format(line_counter, line))\n",
    "        \n",
    "print(\"There are {} lines in woods.txt.\".format(line_counter))"
   ]
  },
  {
   "cell_type": "code",
   "execution_count": 160,
   "metadata": {},
   "outputs": [
    {
     "name": "stdout",
     "output_type": "stream",
     "text": [
      "0\tStopping by Woods on a Snowy Evening by Robert Frost\n",
      "1\t\n",
      "2\tWhose woods these are I think I know.\n",
      "3\tHis house is in the village though;\n",
      "4\tHe will not see me stopping here\n",
      "5\tTo watch his woods fill up with snow.\n",
      "6\t\n",
      "7\tMy little horse must think it queer\n",
      "8\tTo stop without a farmhouse near\n",
      "9\tBetween the woods and frozen lake\n",
      "10\tThe darkest evening of the year.\n",
      "11\t\n",
      "12\tHe gives his harness bells a shake\n",
      "13\tTo ask if there is some mistake.\n",
      "14\tThe only other sound's the sweep\n",
      "15\tOf easy wind and downy flake.\n",
      "16\t\n",
      "17\tThe woods are lovely, dark and deep,\n",
      "18\tBut I have promises to keep,\n",
      "19\tAnd miles to go before I sleep,\n",
      "20\tAnd miles to go before I sleep.\n",
      "There are 20 lines in woods.txt.\n"
     ]
    }
   ],
   "source": [
    "with open('./stories/woods.txt') as fin:\n",
    "    for line_num, line in enumerate(fin):\n",
    "        line = line.rstrip()\n",
    "        print(\"{}\\t{}\".format(line_num, line))\n",
    "    \n",
    "print(\"There are {} lines in woods.txt.\".format(line_num))"
   ]
  },
  {
   "cell_type": "code",
   "execution_count": null,
   "metadata": {},
   "outputs": [],
   "source": []
  }
 ],
 "metadata": {
  "kernelspec": {
   "display_name": "Python 3",
   "language": "python",
   "name": "python3"
  },
  "language_info": {
   "codemirror_mode": {
    "name": "ipython",
    "version": 3
   },
   "file_extension": ".py",
   "mimetype": "text/x-python",
   "name": "python",
   "nbconvert_exporter": "python",
   "pygments_lexer": "ipython3",
   "version": "3.7.0"
  }
 },
 "nbformat": 4,
 "nbformat_minor": 2
}
